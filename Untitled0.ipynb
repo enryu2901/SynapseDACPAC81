{
  "nbformat": 4,
  "nbformat_minor": 0,
  "metadata": {
    "colab": {
      "name": "Untitled0.ipynb",
      "provenance": [],
      "authorship_tag": "ABX9TyP3kLIzGnyxKsYs+aVJeqeW",
      "include_colab_link": true
    },
    "kernelspec": {
      "name": "python3",
      "display_name": "Python 3"
    },
    "language_info": {
      "name": "python"
    }
  },
  "cells": [
    {
      "cell_type": "markdown",
      "metadata": {
        "id": "view-in-github",
        "colab_type": "text"
      },
      "source": [
        "<a href=\"https://colab.research.google.com/github/enryu2901/SynapseDACPAC81/blob/feature_001/Untitled0.ipynb\" target=\"_parent\"><img src=\"https://colab.research.google.com/assets/colab-badge.svg\" alt=\"Open In Colab\"/></a>"
      ]
    },
    {
      "cell_type": "code",
      "execution_count": 7,
      "metadata": {
        "colab": {
          "base_uri": "https://localhost:8080/"
        },
        "id": "KcABhETIz3p7",
        "outputId": "17b46e6b-cb5b-4bf5-efd4-73d40b93efea"
      },
      "outputs": [
        {
          "output_type": "stream",
          "name": "stdout",
          "text": [
            "cat\n",
            "dog\n",
            "yellow\n"
          ]
        }
      ],
      "source": [
        "import pandas as pd\n",
        "\n",
        "df = pd.\n",
        "#list\n",
        "animals = ['cat','dog']\n",
        "print(animals[0])\n",
        "\n",
        "#tuple\n",
        "animals2 = ('cat','dog')\n",
        "print(animals2[1])\n",
        "\n",
        "#dictionary\n",
        "\n",
        "animals3 = {'type':'cat','color':'yellow'}\n",
        "print(animals3['color'])\n"
      ]
    },
    {
      "cell_type": "code",
      "source": [
        ""
      ],
      "metadata": {
        "id": "5VTAz5eq02OY"
      },
      "execution_count": null,
      "outputs": []
    }
  ]
}